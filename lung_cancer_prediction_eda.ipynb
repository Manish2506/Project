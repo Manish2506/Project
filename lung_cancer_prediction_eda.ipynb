{
  "cells": [
    {
      "cell_type": "markdown",
      "metadata": {
        "id": "view-in-github",
        "colab_type": "text"
      },
      "source": [
        "<a href=\"https://colab.research.google.com/github/Manish2506/Project/blob/main/lung_cancer_prediction_eda.ipynb\" target=\"_parent\"><img src=\"https://colab.research.google.com/assets/colab-badge.svg\" alt=\"Open In Colab\"/></a>"
      ]
    },
    {
      "cell_type": "markdown",
      "id": "01ecbcf9",
      "metadata": {
        "papermill": {
          "duration": 0.008537,
          "end_time": "2023-05-09T05:22:11.313613",
          "exception": false,
          "start_time": "2023-05-09T05:22:11.305076",
          "status": "completed"
        },
        "tags": [],
        "id": "01ecbcf9"
      },
      "source": [
        "### Importing libraries"
      ]
    },
    {
      "cell_type": "code",
      "execution_count": 3,
      "id": "50e2a591",
      "metadata": {
        "execution": {
          "iopub.execute_input": "2023-05-09T05:22:11.332687Z",
          "iopub.status.busy": "2023-05-09T05:22:11.332280Z",
          "iopub.status.idle": "2023-05-09T05:22:12.927165Z",
          "shell.execute_reply": "2023-05-09T05:22:12.926218Z"
        },
        "papermill": {
          "duration": 1.607918,
          "end_time": "2023-05-09T05:22:12.930190",
          "exception": false,
          "start_time": "2023-05-09T05:22:11.322272",
          "status": "completed"
        },
        "tags": [],
        "id": "50e2a591"
      },
      "outputs": [],
      "source": [
        "#Importing Libraries\n",
        "import pandas as pd\n",
        "import numpy as np\n",
        "import matplotlib.pyplot as plt\n",
        "import seaborn as sns\n",
        "\n",
        "#For ignoring warning\n",
        "import warnings\n",
        "warnings.filterwarnings(\"ignore\")"
      ]
    },
    {
      "cell_type": "markdown",
      "id": "1f44dd46",
      "metadata": {
        "papermill": {
          "duration": 0.007674,
          "end_time": "2023-05-09T05:22:12.948133",
          "exception": false,
          "start_time": "2023-05-09T05:22:12.940459",
          "status": "completed"
        },
        "tags": [],
        "id": "1f44dd46"
      },
      "source": [
        "### Load data"
      ]
    },
    {
      "cell_type": "code",
      "execution_count": 4,
      "id": "5ceac048",
      "metadata": {
        "execution": {
          "iopub.execute_input": "2023-05-09T05:22:12.966083Z",
          "iopub.status.busy": "2023-05-09T05:22:12.965675Z",
          "iopub.status.idle": "2023-05-09T05:22:13.044132Z",
          "shell.execute_reply": "2023-05-09T05:22:13.042887Z"
        },
        "papermill": {
          "duration": 0.090546,
          "end_time": "2023-05-09T05:22:13.046779",
          "exception": false,
          "start_time": "2023-05-09T05:22:12.956233",
          "status": "completed"
        },
        "tags": [],
        "colab": {
          "base_uri": "https://localhost:8080/",
          "height": 505
        },
        "id": "5ceac048",
        "outputId": "d79ff820-dcfa-4977-dabe-f6f2baa8f02e"
      },
      "outputs": [
        {
          "output_type": "execute_result",
          "data": {
            "text/plain": [
              "    GENDER  AGE  SMOKING  YELLOW_FINGERS  ANXIETY  PEER_PRESSURE  \\\n",
              "0        M   69        1               2        2              1   \n",
              "1        M   74        2               1        1              1   \n",
              "2        F   59        1               1        1              2   \n",
              "3        M   63        2               2        2              1   \n",
              "4        F   63        1               2        1              1   \n",
              "..     ...  ...      ...             ...      ...            ...   \n",
              "304      F   56        1               1        1              2   \n",
              "305      M   70        2               1        1              1   \n",
              "306      M   58        2               1        1              1   \n",
              "307      M   67        2               1        2              1   \n",
              "308      M   62        1               1        1              2   \n",
              "\n",
              "     CHRONIC DISEASE  FATIGUE   ALLERGY   WHEEZING  ALCOHOL CONSUMING  \\\n",
              "0                  1         2         1         2                  2   \n",
              "1                  2         2         2         1                  1   \n",
              "2                  1         2         1         2                  1   \n",
              "3                  1         1         1         1                  2   \n",
              "4                  1         1         1         2                  1   \n",
              "..               ...       ...       ...       ...                ...   \n",
              "304                2         2         1         1                  2   \n",
              "305                1         2         2         2                  2   \n",
              "306                1         1         2         2                  2   \n",
              "307                1         2         2         1                  2   \n",
              "308                1         2         2         2                  2   \n",
              "\n",
              "     COUGHING  SHORTNESS OF BREATH  SWALLOWING DIFFICULTY  CHEST PAIN  \\\n",
              "0           2                    2                      2           2   \n",
              "1           1                    2                      2           2   \n",
              "2           2                    2                      1           2   \n",
              "3           1                    1                      2           2   \n",
              "4           2                    2                      1           1   \n",
              "..        ...                  ...                    ...         ...   \n",
              "304         2                    2                      2           1   \n",
              "305         2                    2                      1           2   \n",
              "306         2                    1                      1           2   \n",
              "307         2                    2                      1           2   \n",
              "308         1                    1                      2           1   \n",
              "\n",
              "    LUNG_CANCER  \n",
              "0           YES  \n",
              "1           YES  \n",
              "2            NO  \n",
              "3            NO  \n",
              "4            NO  \n",
              "..          ...  \n",
              "304         YES  \n",
              "305         YES  \n",
              "306         YES  \n",
              "307         YES  \n",
              "308         YES  \n",
              "\n",
              "[309 rows x 16 columns]"
            ],
            "text/html": [
              "\n",
              "  <div id=\"df-dc96ef3a-b1d0-46f4-ab47-a2ae33332840\">\n",
              "    <div class=\"colab-df-container\">\n",
              "      <div>\n",
              "<style scoped>\n",
              "    .dataframe tbody tr th:only-of-type {\n",
              "        vertical-align: middle;\n",
              "    }\n",
              "\n",
              "    .dataframe tbody tr th {\n",
              "        vertical-align: top;\n",
              "    }\n",
              "\n",
              "    .dataframe thead th {\n",
              "        text-align: right;\n",
              "    }\n",
              "</style>\n",
              "<table border=\"1\" class=\"dataframe\">\n",
              "  <thead>\n",
              "    <tr style=\"text-align: right;\">\n",
              "      <th></th>\n",
              "      <th>GENDER</th>\n",
              "      <th>AGE</th>\n",
              "      <th>SMOKING</th>\n",
              "      <th>YELLOW_FINGERS</th>\n",
              "      <th>ANXIETY</th>\n",
              "      <th>PEER_PRESSURE</th>\n",
              "      <th>CHRONIC DISEASE</th>\n",
              "      <th>FATIGUE</th>\n",
              "      <th>ALLERGY</th>\n",
              "      <th>WHEEZING</th>\n",
              "      <th>ALCOHOL CONSUMING</th>\n",
              "      <th>COUGHING</th>\n",
              "      <th>SHORTNESS OF BREATH</th>\n",
              "      <th>SWALLOWING DIFFICULTY</th>\n",
              "      <th>CHEST PAIN</th>\n",
              "      <th>LUNG_CANCER</th>\n",
              "    </tr>\n",
              "  </thead>\n",
              "  <tbody>\n",
              "    <tr>\n",
              "      <th>0</th>\n",
              "      <td>M</td>\n",
              "      <td>69</td>\n",
              "      <td>1</td>\n",
              "      <td>2</td>\n",
              "      <td>2</td>\n",
              "      <td>1</td>\n",
              "      <td>1</td>\n",
              "      <td>2</td>\n",
              "      <td>1</td>\n",
              "      <td>2</td>\n",
              "      <td>2</td>\n",
              "      <td>2</td>\n",
              "      <td>2</td>\n",
              "      <td>2</td>\n",
              "      <td>2</td>\n",
              "      <td>YES</td>\n",
              "    </tr>\n",
              "    <tr>\n",
              "      <th>1</th>\n",
              "      <td>M</td>\n",
              "      <td>74</td>\n",
              "      <td>2</td>\n",
              "      <td>1</td>\n",
              "      <td>1</td>\n",
              "      <td>1</td>\n",
              "      <td>2</td>\n",
              "      <td>2</td>\n",
              "      <td>2</td>\n",
              "      <td>1</td>\n",
              "      <td>1</td>\n",
              "      <td>1</td>\n",
              "      <td>2</td>\n",
              "      <td>2</td>\n",
              "      <td>2</td>\n",
              "      <td>YES</td>\n",
              "    </tr>\n",
              "    <tr>\n",
              "      <th>2</th>\n",
              "      <td>F</td>\n",
              "      <td>59</td>\n",
              "      <td>1</td>\n",
              "      <td>1</td>\n",
              "      <td>1</td>\n",
              "      <td>2</td>\n",
              "      <td>1</td>\n",
              "      <td>2</td>\n",
              "      <td>1</td>\n",
              "      <td>2</td>\n",
              "      <td>1</td>\n",
              "      <td>2</td>\n",
              "      <td>2</td>\n",
              "      <td>1</td>\n",
              "      <td>2</td>\n",
              "      <td>NO</td>\n",
              "    </tr>\n",
              "    <tr>\n",
              "      <th>3</th>\n",
              "      <td>M</td>\n",
              "      <td>63</td>\n",
              "      <td>2</td>\n",
              "      <td>2</td>\n",
              "      <td>2</td>\n",
              "      <td>1</td>\n",
              "      <td>1</td>\n",
              "      <td>1</td>\n",
              "      <td>1</td>\n",
              "      <td>1</td>\n",
              "      <td>2</td>\n",
              "      <td>1</td>\n",
              "      <td>1</td>\n",
              "      <td>2</td>\n",
              "      <td>2</td>\n",
              "      <td>NO</td>\n",
              "    </tr>\n",
              "    <tr>\n",
              "      <th>4</th>\n",
              "      <td>F</td>\n",
              "      <td>63</td>\n",
              "      <td>1</td>\n",
              "      <td>2</td>\n",
              "      <td>1</td>\n",
              "      <td>1</td>\n",
              "      <td>1</td>\n",
              "      <td>1</td>\n",
              "      <td>1</td>\n",
              "      <td>2</td>\n",
              "      <td>1</td>\n",
              "      <td>2</td>\n",
              "      <td>2</td>\n",
              "      <td>1</td>\n",
              "      <td>1</td>\n",
              "      <td>NO</td>\n",
              "    </tr>\n",
              "    <tr>\n",
              "      <th>...</th>\n",
              "      <td>...</td>\n",
              "      <td>...</td>\n",
              "      <td>...</td>\n",
              "      <td>...</td>\n",
              "      <td>...</td>\n",
              "      <td>...</td>\n",
              "      <td>...</td>\n",
              "      <td>...</td>\n",
              "      <td>...</td>\n",
              "      <td>...</td>\n",
              "      <td>...</td>\n",
              "      <td>...</td>\n",
              "      <td>...</td>\n",
              "      <td>...</td>\n",
              "      <td>...</td>\n",
              "      <td>...</td>\n",
              "    </tr>\n",
              "    <tr>\n",
              "      <th>304</th>\n",
              "      <td>F</td>\n",
              "      <td>56</td>\n",
              "      <td>1</td>\n",
              "      <td>1</td>\n",
              "      <td>1</td>\n",
              "      <td>2</td>\n",
              "      <td>2</td>\n",
              "      <td>2</td>\n",
              "      <td>1</td>\n",
              "      <td>1</td>\n",
              "      <td>2</td>\n",
              "      <td>2</td>\n",
              "      <td>2</td>\n",
              "      <td>2</td>\n",
              "      <td>1</td>\n",
              "      <td>YES</td>\n",
              "    </tr>\n",
              "    <tr>\n",
              "      <th>305</th>\n",
              "      <td>M</td>\n",
              "      <td>70</td>\n",
              "      <td>2</td>\n",
              "      <td>1</td>\n",
              "      <td>1</td>\n",
              "      <td>1</td>\n",
              "      <td>1</td>\n",
              "      <td>2</td>\n",
              "      <td>2</td>\n",
              "      <td>2</td>\n",
              "      <td>2</td>\n",
              "      <td>2</td>\n",
              "      <td>2</td>\n",
              "      <td>1</td>\n",
              "      <td>2</td>\n",
              "      <td>YES</td>\n",
              "    </tr>\n",
              "    <tr>\n",
              "      <th>306</th>\n",
              "      <td>M</td>\n",
              "      <td>58</td>\n",
              "      <td>2</td>\n",
              "      <td>1</td>\n",
              "      <td>1</td>\n",
              "      <td>1</td>\n",
              "      <td>1</td>\n",
              "      <td>1</td>\n",
              "      <td>2</td>\n",
              "      <td>2</td>\n",
              "      <td>2</td>\n",
              "      <td>2</td>\n",
              "      <td>1</td>\n",
              "      <td>1</td>\n",
              "      <td>2</td>\n",
              "      <td>YES</td>\n",
              "    </tr>\n",
              "    <tr>\n",
              "      <th>307</th>\n",
              "      <td>M</td>\n",
              "      <td>67</td>\n",
              "      <td>2</td>\n",
              "      <td>1</td>\n",
              "      <td>2</td>\n",
              "      <td>1</td>\n",
              "      <td>1</td>\n",
              "      <td>2</td>\n",
              "      <td>2</td>\n",
              "      <td>1</td>\n",
              "      <td>2</td>\n",
              "      <td>2</td>\n",
              "      <td>2</td>\n",
              "      <td>1</td>\n",
              "      <td>2</td>\n",
              "      <td>YES</td>\n",
              "    </tr>\n",
              "    <tr>\n",
              "      <th>308</th>\n",
              "      <td>M</td>\n",
              "      <td>62</td>\n",
              "      <td>1</td>\n",
              "      <td>1</td>\n",
              "      <td>1</td>\n",
              "      <td>2</td>\n",
              "      <td>1</td>\n",
              "      <td>2</td>\n",
              "      <td>2</td>\n",
              "      <td>2</td>\n",
              "      <td>2</td>\n",
              "      <td>1</td>\n",
              "      <td>1</td>\n",
              "      <td>2</td>\n",
              "      <td>1</td>\n",
              "      <td>YES</td>\n",
              "    </tr>\n",
              "  </tbody>\n",
              "</table>\n",
              "<p>309 rows × 16 columns</p>\n",
              "</div>\n",
              "      <button class=\"colab-df-convert\" onclick=\"convertToInteractive('df-dc96ef3a-b1d0-46f4-ab47-a2ae33332840')\"\n",
              "              title=\"Convert this dataframe to an interactive table.\"\n",
              "              style=\"display:none;\">\n",
              "        \n",
              "  <svg xmlns=\"http://www.w3.org/2000/svg\" height=\"24px\"viewBox=\"0 0 24 24\"\n",
              "       width=\"24px\">\n",
              "    <path d=\"M0 0h24v24H0V0z\" fill=\"none\"/>\n",
              "    <path d=\"M18.56 5.44l.94 2.06.94-2.06 2.06-.94-2.06-.94-.94-2.06-.94 2.06-2.06.94zm-11 1L8.5 8.5l.94-2.06 2.06-.94-2.06-.94L8.5 2.5l-.94 2.06-2.06.94zm10 10l.94 2.06.94-2.06 2.06-.94-2.06-.94-.94-2.06-.94 2.06-2.06.94z\"/><path d=\"M17.41 7.96l-1.37-1.37c-.4-.4-.92-.59-1.43-.59-.52 0-1.04.2-1.43.59L10.3 9.45l-7.72 7.72c-.78.78-.78 2.05 0 2.83L4 21.41c.39.39.9.59 1.41.59.51 0 1.02-.2 1.41-.59l7.78-7.78 2.81-2.81c.8-.78.8-2.07 0-2.86zM5.41 20L4 18.59l7.72-7.72 1.47 1.35L5.41 20z\"/>\n",
              "  </svg>\n",
              "      </button>\n",
              "      \n",
              "  <style>\n",
              "    .colab-df-container {\n",
              "      display:flex;\n",
              "      flex-wrap:wrap;\n",
              "      gap: 12px;\n",
              "    }\n",
              "\n",
              "    .colab-df-convert {\n",
              "      background-color: #E8F0FE;\n",
              "      border: none;\n",
              "      border-radius: 50%;\n",
              "      cursor: pointer;\n",
              "      display: none;\n",
              "      fill: #1967D2;\n",
              "      height: 32px;\n",
              "      padding: 0 0 0 0;\n",
              "      width: 32px;\n",
              "    }\n",
              "\n",
              "    .colab-df-convert:hover {\n",
              "      background-color: #E2EBFA;\n",
              "      box-shadow: 0px 1px 2px rgba(60, 64, 67, 0.3), 0px 1px 3px 1px rgba(60, 64, 67, 0.15);\n",
              "      fill: #174EA6;\n",
              "    }\n",
              "\n",
              "    [theme=dark] .colab-df-convert {\n",
              "      background-color: #3B4455;\n",
              "      fill: #D2E3FC;\n",
              "    }\n",
              "\n",
              "    [theme=dark] .colab-df-convert:hover {\n",
              "      background-color: #434B5C;\n",
              "      box-shadow: 0px 1px 3px 1px rgba(0, 0, 0, 0.15);\n",
              "      filter: drop-shadow(0px 1px 2px rgba(0, 0, 0, 0.3));\n",
              "      fill: #FFFFFF;\n",
              "    }\n",
              "  </style>\n",
              "\n",
              "      <script>\n",
              "        const buttonEl =\n",
              "          document.querySelector('#df-dc96ef3a-b1d0-46f4-ab47-a2ae33332840 button.colab-df-convert');\n",
              "        buttonEl.style.display =\n",
              "          google.colab.kernel.accessAllowed ? 'block' : 'none';\n",
              "\n",
              "        async function convertToInteractive(key) {\n",
              "          const element = document.querySelector('#df-dc96ef3a-b1d0-46f4-ab47-a2ae33332840');\n",
              "          const dataTable =\n",
              "            await google.colab.kernel.invokeFunction('convertToInteractive',\n",
              "                                                     [key], {});\n",
              "          if (!dataTable) return;\n",
              "\n",
              "          const docLinkHtml = 'Like what you see? Visit the ' +\n",
              "            '<a target=\"_blank\" href=https://colab.research.google.com/notebooks/data_table.ipynb>data table notebook</a>'\n",
              "            + ' to learn more about interactive tables.';\n",
              "          element.innerHTML = '';\n",
              "          dataTable['output_type'] = 'display_data';\n",
              "          await google.colab.output.renderOutput(dataTable, element);\n",
              "          const docLink = document.createElement('div');\n",
              "          docLink.innerHTML = docLinkHtml;\n",
              "          element.appendChild(docLink);\n",
              "        }\n",
              "      </script>\n",
              "    </div>\n",
              "  </div>\n",
              "  "
            ]
          },
          "metadata": {},
          "execution_count": 4
        }
      ],
      "source": [
        "df=pd.read_csv('survey lung cancer.csv')\n",
        "df"
      ]
    },
    {
      "cell_type": "markdown",
      "id": "b52e11ee",
      "metadata": {
        "papermill": {
          "duration": 0.008672,
          "end_time": "2023-05-09T05:22:13.065244",
          "exception": false,
          "start_time": "2023-05-09T05:22:13.056572",
          "status": "completed"
        },
        "tags": [],
        "id": "b52e11ee"
      },
      "source": [
        "## EDA"
      ]
    },
    {
      "cell_type": "code",
      "execution_count": 5,
      "id": "188240c3",
      "metadata": {
        "execution": {
          "iopub.execute_input": "2023-05-09T05:22:13.084368Z",
          "iopub.status.busy": "2023-05-09T05:22:13.083940Z",
          "iopub.status.idle": "2023-05-09T05:22:13.100723Z",
          "shell.execute_reply": "2023-05-09T05:22:13.099072Z"
        },
        "papermill": {
          "duration": 0.029774,
          "end_time": "2023-05-09T05:22:13.103690",
          "exception": false,
          "start_time": "2023-05-09T05:22:13.073916",
          "status": "completed"
        },
        "tags": [],
        "colab": {
          "base_uri": "https://localhost:8080/",
          "height": 287
        },
        "id": "188240c3",
        "outputId": "aaa349db-41cd-47b6-e987-e54fdac4c2f4"
      },
      "outputs": [
        {
          "output_type": "execute_result",
          "data": {
            "text/plain": [
              "  GENDER  AGE  SMOKING  YELLOW_FINGERS  ANXIETY  PEER_PRESSURE  \\\n",
              "0      M   69        1               2        2              1   \n",
              "1      M   74        2               1        1              1   \n",
              "2      F   59        1               1        1              2   \n",
              "3      M   63        2               2        2              1   \n",
              "4      F   63        1               2        1              1   \n",
              "\n",
              "   CHRONIC DISEASE  FATIGUE   ALLERGY   WHEEZING  ALCOHOL CONSUMING  COUGHING  \\\n",
              "0                1         2         1         2                  2         2   \n",
              "1                2         2         2         1                  1         1   \n",
              "2                1         2         1         2                  1         2   \n",
              "3                1         1         1         1                  2         1   \n",
              "4                1         1         1         2                  1         2   \n",
              "\n",
              "   SHORTNESS OF BREATH  SWALLOWING DIFFICULTY  CHEST PAIN LUNG_CANCER  \n",
              "0                    2                      2           2         YES  \n",
              "1                    2                      2           2         YES  \n",
              "2                    2                      1           2          NO  \n",
              "3                    1                      2           2          NO  \n",
              "4                    2                      1           1          NO  "
            ],
            "text/html": [
              "\n",
              "  <div id=\"df-cc5e638a-9d38-42ca-a04f-3f8200dee988\">\n",
              "    <div class=\"colab-df-container\">\n",
              "      <div>\n",
              "<style scoped>\n",
              "    .dataframe tbody tr th:only-of-type {\n",
              "        vertical-align: middle;\n",
              "    }\n",
              "\n",
              "    .dataframe tbody tr th {\n",
              "        vertical-align: top;\n",
              "    }\n",
              "\n",
              "    .dataframe thead th {\n",
              "        text-align: right;\n",
              "    }\n",
              "</style>\n",
              "<table border=\"1\" class=\"dataframe\">\n",
              "  <thead>\n",
              "    <tr style=\"text-align: right;\">\n",
              "      <th></th>\n",
              "      <th>GENDER</th>\n",
              "      <th>AGE</th>\n",
              "      <th>SMOKING</th>\n",
              "      <th>YELLOW_FINGERS</th>\n",
              "      <th>ANXIETY</th>\n",
              "      <th>PEER_PRESSURE</th>\n",
              "      <th>CHRONIC DISEASE</th>\n",
              "      <th>FATIGUE</th>\n",
              "      <th>ALLERGY</th>\n",
              "      <th>WHEEZING</th>\n",
              "      <th>ALCOHOL CONSUMING</th>\n",
              "      <th>COUGHING</th>\n",
              "      <th>SHORTNESS OF BREATH</th>\n",
              "      <th>SWALLOWING DIFFICULTY</th>\n",
              "      <th>CHEST PAIN</th>\n",
              "      <th>LUNG_CANCER</th>\n",
              "    </tr>\n",
              "  </thead>\n",
              "  <tbody>\n",
              "    <tr>\n",
              "      <th>0</th>\n",
              "      <td>M</td>\n",
              "      <td>69</td>\n",
              "      <td>1</td>\n",
              "      <td>2</td>\n",
              "      <td>2</td>\n",
              "      <td>1</td>\n",
              "      <td>1</td>\n",
              "      <td>2</td>\n",
              "      <td>1</td>\n",
              "      <td>2</td>\n",
              "      <td>2</td>\n",
              "      <td>2</td>\n",
              "      <td>2</td>\n",
              "      <td>2</td>\n",
              "      <td>2</td>\n",
              "      <td>YES</td>\n",
              "    </tr>\n",
              "    <tr>\n",
              "      <th>1</th>\n",
              "      <td>M</td>\n",
              "      <td>74</td>\n",
              "      <td>2</td>\n",
              "      <td>1</td>\n",
              "      <td>1</td>\n",
              "      <td>1</td>\n",
              "      <td>2</td>\n",
              "      <td>2</td>\n",
              "      <td>2</td>\n",
              "      <td>1</td>\n",
              "      <td>1</td>\n",
              "      <td>1</td>\n",
              "      <td>2</td>\n",
              "      <td>2</td>\n",
              "      <td>2</td>\n",
              "      <td>YES</td>\n",
              "    </tr>\n",
              "    <tr>\n",
              "      <th>2</th>\n",
              "      <td>F</td>\n",
              "      <td>59</td>\n",
              "      <td>1</td>\n",
              "      <td>1</td>\n",
              "      <td>1</td>\n",
              "      <td>2</td>\n",
              "      <td>1</td>\n",
              "      <td>2</td>\n",
              "      <td>1</td>\n",
              "      <td>2</td>\n",
              "      <td>1</td>\n",
              "      <td>2</td>\n",
              "      <td>2</td>\n",
              "      <td>1</td>\n",
              "      <td>2</td>\n",
              "      <td>NO</td>\n",
              "    </tr>\n",
              "    <tr>\n",
              "      <th>3</th>\n",
              "      <td>M</td>\n",
              "      <td>63</td>\n",
              "      <td>2</td>\n",
              "      <td>2</td>\n",
              "      <td>2</td>\n",
              "      <td>1</td>\n",
              "      <td>1</td>\n",
              "      <td>1</td>\n",
              "      <td>1</td>\n",
              "      <td>1</td>\n",
              "      <td>2</td>\n",
              "      <td>1</td>\n",
              "      <td>1</td>\n",
              "      <td>2</td>\n",
              "      <td>2</td>\n",
              "      <td>NO</td>\n",
              "    </tr>\n",
              "    <tr>\n",
              "      <th>4</th>\n",
              "      <td>F</td>\n",
              "      <td>63</td>\n",
              "      <td>1</td>\n",
              "      <td>2</td>\n",
              "      <td>1</td>\n",
              "      <td>1</td>\n",
              "      <td>1</td>\n",
              "      <td>1</td>\n",
              "      <td>1</td>\n",
              "      <td>2</td>\n",
              "      <td>1</td>\n",
              "      <td>2</td>\n",
              "      <td>2</td>\n",
              "      <td>1</td>\n",
              "      <td>1</td>\n",
              "      <td>NO</td>\n",
              "    </tr>\n",
              "  </tbody>\n",
              "</table>\n",
              "</div>\n",
              "      <button class=\"colab-df-convert\" onclick=\"convertToInteractive('df-cc5e638a-9d38-42ca-a04f-3f8200dee988')\"\n",
              "              title=\"Convert this dataframe to an interactive table.\"\n",
              "              style=\"display:none;\">\n",
              "        \n",
              "  <svg xmlns=\"http://www.w3.org/2000/svg\" height=\"24px\"viewBox=\"0 0 24 24\"\n",
              "       width=\"24px\">\n",
              "    <path d=\"M0 0h24v24H0V0z\" fill=\"none\"/>\n",
              "    <path d=\"M18.56 5.44l.94 2.06.94-2.06 2.06-.94-2.06-.94-.94-2.06-.94 2.06-2.06.94zm-11 1L8.5 8.5l.94-2.06 2.06-.94-2.06-.94L8.5 2.5l-.94 2.06-2.06.94zm10 10l.94 2.06.94-2.06 2.06-.94-2.06-.94-.94-2.06-.94 2.06-2.06.94z\"/><path d=\"M17.41 7.96l-1.37-1.37c-.4-.4-.92-.59-1.43-.59-.52 0-1.04.2-1.43.59L10.3 9.45l-7.72 7.72c-.78.78-.78 2.05 0 2.83L4 21.41c.39.39.9.59 1.41.59.51 0 1.02-.2 1.41-.59l7.78-7.78 2.81-2.81c.8-.78.8-2.07 0-2.86zM5.41 20L4 18.59l7.72-7.72 1.47 1.35L5.41 20z\"/>\n",
              "  </svg>\n",
              "      </button>\n",
              "      \n",
              "  <style>\n",
              "    .colab-df-container {\n",
              "      display:flex;\n",
              "      flex-wrap:wrap;\n",
              "      gap: 12px;\n",
              "    }\n",
              "\n",
              "    .colab-df-convert {\n",
              "      background-color: #E8F0FE;\n",
              "      border: none;\n",
              "      border-radius: 50%;\n",
              "      cursor: pointer;\n",
              "      display: none;\n",
              "      fill: #1967D2;\n",
              "      height: 32px;\n",
              "      padding: 0 0 0 0;\n",
              "      width: 32px;\n",
              "    }\n",
              "\n",
              "    .colab-df-convert:hover {\n",
              "      background-color: #E2EBFA;\n",
              "      box-shadow: 0px 1px 2px rgba(60, 64, 67, 0.3), 0px 1px 3px 1px rgba(60, 64, 67, 0.15);\n",
              "      fill: #174EA6;\n",
              "    }\n",
              "\n",
              "    [theme=dark] .colab-df-convert {\n",
              "      background-color: #3B4455;\n",
              "      fill: #D2E3FC;\n",
              "    }\n",
              "\n",
              "    [theme=dark] .colab-df-convert:hover {\n",
              "      background-color: #434B5C;\n",
              "      box-shadow: 0px 1px 3px 1px rgba(0, 0, 0, 0.15);\n",
              "      filter: drop-shadow(0px 1px 2px rgba(0, 0, 0, 0.3));\n",
              "      fill: #FFFFFF;\n",
              "    }\n",
              "  </style>\n",
              "\n",
              "      <script>\n",
              "        const buttonEl =\n",
              "          document.querySelector('#df-cc5e638a-9d38-42ca-a04f-3f8200dee988 button.colab-df-convert');\n",
              "        buttonEl.style.display =\n",
              "          google.colab.kernel.accessAllowed ? 'block' : 'none';\n",
              "\n",
              "        async function convertToInteractive(key) {\n",
              "          const element = document.querySelector('#df-cc5e638a-9d38-42ca-a04f-3f8200dee988');\n",
              "          const dataTable =\n",
              "            await google.colab.kernel.invokeFunction('convertToInteractive',\n",
              "                                                     [key], {});\n",
              "          if (!dataTable) return;\n",
              "\n",
              "          const docLinkHtml = 'Like what you see? Visit the ' +\n",
              "            '<a target=\"_blank\" href=https://colab.research.google.com/notebooks/data_table.ipynb>data table notebook</a>'\n",
              "            + ' to learn more about interactive tables.';\n",
              "          element.innerHTML = '';\n",
              "          dataTable['output_type'] = 'display_data';\n",
              "          await google.colab.output.renderOutput(dataTable, element);\n",
              "          const docLink = document.createElement('div');\n",
              "          docLink.innerHTML = docLinkHtml;\n",
              "          element.appendChild(docLink);\n",
              "        }\n",
              "      </script>\n",
              "    </div>\n",
              "  </div>\n",
              "  "
            ]
          },
          "metadata": {},
          "execution_count": 5
        }
      ],
      "source": [
        "#first 5 rows\n",
        "df.head()"
      ]
    },
    {
      "cell_type": "code",
      "execution_count": 6,
      "id": "c09836da",
      "metadata": {
        "execution": {
          "iopub.execute_input": "2023-05-09T05:22:13.123218Z",
          "iopub.status.busy": "2023-05-09T05:22:13.122839Z",
          "iopub.status.idle": "2023-05-09T05:22:13.130302Z",
          "shell.execute_reply": "2023-05-09T05:22:13.128884Z"
        },
        "papermill": {
          "duration": 0.020631,
          "end_time": "2023-05-09T05:22:13.133247",
          "exception": false,
          "start_time": "2023-05-09T05:22:13.112616",
          "status": "completed"
        },
        "tags": [],
        "colab": {
          "base_uri": "https://localhost:8080/"
        },
        "id": "c09836da",
        "outputId": "bac09ad3-19b3-41f3-f384-fa7a6158ce57"
      },
      "outputs": [
        {
          "output_type": "execute_result",
          "data": {
            "text/plain": [
              "(309, 16)"
            ]
          },
          "metadata": {},
          "execution_count": 6
        }
      ],
      "source": [
        "df.shape"
      ]
    },
    {
      "cell_type": "code",
      "execution_count": 7,
      "id": "52c80bda",
      "metadata": {
        "execution": {
          "iopub.execute_input": "2023-05-09T05:22:13.155068Z",
          "iopub.status.busy": "2023-05-09T05:22:13.154690Z",
          "iopub.status.idle": "2023-05-09T05:22:13.164327Z",
          "shell.execute_reply": "2023-05-09T05:22:13.162746Z"
        },
        "papermill": {
          "duration": 0.022862,
          "end_time": "2023-05-09T05:22:13.166862",
          "exception": false,
          "start_time": "2023-05-09T05:22:13.144000",
          "status": "completed"
        },
        "tags": [],
        "colab": {
          "base_uri": "https://localhost:8080/"
        },
        "id": "52c80bda",
        "outputId": "2c122564-5957-4831-cc56-f900543ce03d"
      },
      "outputs": [
        {
          "output_type": "execute_result",
          "data": {
            "text/plain": [
              "Index(['GENDER', 'AGE', 'SMOKING', 'YELLOW_FINGERS', 'ANXIETY',\n",
              "       'PEER_PRESSURE', 'CHRONIC DISEASE', 'FATIGUE ', 'ALLERGY ', 'WHEEZING',\n",
              "       'ALCOHOL CONSUMING', 'COUGHING', 'SHORTNESS OF BREATH',\n",
              "       'SWALLOWING DIFFICULTY', 'CHEST PAIN', 'LUNG_CANCER'],\n",
              "      dtype='object')"
            ]
          },
          "metadata": {},
          "execution_count": 7
        }
      ],
      "source": [
        "df.columns"
      ]
    },
    {
      "cell_type": "code",
      "execution_count": 8,
      "id": "20e22eb6",
      "metadata": {
        "execution": {
          "iopub.execute_input": "2023-05-09T05:22:13.186311Z",
          "iopub.status.busy": "2023-05-09T05:22:13.185874Z",
          "iopub.status.idle": "2023-05-09T05:22:13.213152Z",
          "shell.execute_reply": "2023-05-09T05:22:13.210770Z"
        },
        "papermill": {
          "duration": 0.040423,
          "end_time": "2023-05-09T05:22:13.215915",
          "exception": false,
          "start_time": "2023-05-09T05:22:13.175492",
          "status": "completed"
        },
        "tags": [],
        "colab": {
          "base_uri": "https://localhost:8080/"
        },
        "id": "20e22eb6",
        "outputId": "486f3045-08f1-458b-c6f0-1d88ab910b9d"
      },
      "outputs": [
        {
          "output_type": "stream",
          "name": "stdout",
          "text": [
            "<class 'pandas.core.frame.DataFrame'>\n",
            "RangeIndex: 309 entries, 0 to 308\n",
            "Data columns (total 16 columns):\n",
            " #   Column                 Non-Null Count  Dtype \n",
            "---  ------                 --------------  ----- \n",
            " 0   GENDER                 309 non-null    object\n",
            " 1   AGE                    309 non-null    int64 \n",
            " 2   SMOKING                309 non-null    int64 \n",
            " 3   YELLOW_FINGERS         309 non-null    int64 \n",
            " 4   ANXIETY                309 non-null    int64 \n",
            " 5   PEER_PRESSURE          309 non-null    int64 \n",
            " 6   CHRONIC DISEASE        309 non-null    int64 \n",
            " 7   FATIGUE                309 non-null    int64 \n",
            " 8   ALLERGY                309 non-null    int64 \n",
            " 9   WHEEZING               309 non-null    int64 \n",
            " 10  ALCOHOL CONSUMING      309 non-null    int64 \n",
            " 11  COUGHING               309 non-null    int64 \n",
            " 12  SHORTNESS OF BREATH    309 non-null    int64 \n",
            " 13  SWALLOWING DIFFICULTY  309 non-null    int64 \n",
            " 14  CHEST PAIN             309 non-null    int64 \n",
            " 15  LUNG_CANCER            309 non-null    object\n",
            "dtypes: int64(14), object(2)\n",
            "memory usage: 38.8+ KB\n"
          ]
        }
      ],
      "source": [
        "df.info()"
      ]
    },
    {
      "cell_type": "code",
      "execution_count": 9,
      "id": "776209c8",
      "metadata": {
        "execution": {
          "iopub.execute_input": "2023-05-09T05:22:13.235904Z",
          "iopub.status.busy": "2023-05-09T05:22:13.235466Z",
          "iopub.status.idle": "2023-05-09T05:22:13.245620Z",
          "shell.execute_reply": "2023-05-09T05:22:13.244272Z"
        },
        "papermill": {
          "duration": 0.023806,
          "end_time": "2023-05-09T05:22:13.248586",
          "exception": false,
          "start_time": "2023-05-09T05:22:13.224780",
          "status": "completed"
        },
        "tags": [],
        "colab": {
          "base_uri": "https://localhost:8080/"
        },
        "id": "776209c8",
        "outputId": "81567a82-5509-4eaa-e27f-4a499b43750f"
      },
      "outputs": [
        {
          "output_type": "execute_result",
          "data": {
            "text/plain": [
              "GENDER                   0\n",
              "AGE                      0\n",
              "SMOKING                  0\n",
              "YELLOW_FINGERS           0\n",
              "ANXIETY                  0\n",
              "PEER_PRESSURE            0\n",
              "CHRONIC DISEASE          0\n",
              "FATIGUE                  0\n",
              "ALLERGY                  0\n",
              "WHEEZING                 0\n",
              "ALCOHOL CONSUMING        0\n",
              "COUGHING                 0\n",
              "SHORTNESS OF BREATH      0\n",
              "SWALLOWING DIFFICULTY    0\n",
              "CHEST PAIN               0\n",
              "LUNG_CANCER              0\n",
              "dtype: int64"
            ]
          },
          "metadata": {},
          "execution_count": 9
        }
      ],
      "source": [
        "#to check null values\n",
        "df.isnull().sum()"
      ]
    },
    {
      "cell_type": "markdown",
      "id": "bdd8a262",
      "metadata": {
        "papermill": {
          "duration": 0.008385,
          "end_time": "2023-05-09T05:22:13.265841",
          "exception": false,
          "start_time": "2023-05-09T05:22:13.257456",
          "status": "completed"
        },
        "tags": [],
        "id": "bdd8a262"
      },
      "source": [
        "No null values here"
      ]
    },
    {
      "cell_type": "markdown",
      "id": "c1d02f93",
      "metadata": {
        "papermill": {
          "duration": 0.009068,
          "end_time": "2023-05-09T05:22:13.283506",
          "exception": false,
          "start_time": "2023-05-09T05:22:13.274438",
          "status": "completed"
        },
        "tags": [],
        "id": "c1d02f93"
      },
      "source": [
        "Convert the values using LabelEncoder.LabelEncoder is a utility class to help normalize labels such that they contain only values between 0 and n_classes-1.It can also be used to transform non-numerical labels to numerical labels. Also let's make every other attributes as YES=1 & NO=0, Male=1 & Female=0."
      ]
    },
    {
      "cell_type": "code",
      "execution_count": 10,
      "id": "2dfb686a",
      "metadata": {
        "execution": {
          "iopub.execute_input": "2023-05-09T05:22:13.303858Z",
          "iopub.status.busy": "2023-05-09T05:22:13.303324Z",
          "iopub.status.idle": "2023-05-09T05:22:13.524630Z",
          "shell.execute_reply": "2023-05-09T05:22:13.523149Z"
        },
        "papermill": {
          "duration": 0.234776,
          "end_time": "2023-05-09T05:22:13.527459",
          "exception": false,
          "start_time": "2023-05-09T05:22:13.292683",
          "status": "completed"
        },
        "tags": [],
        "id": "2dfb686a"
      },
      "outputs": [],
      "source": [
        "from sklearn import preprocessing\n",
        "le=preprocessing.LabelEncoder()\n",
        "df['GENDER']=le.fit_transform(df['GENDER'])\n",
        "df['LUNG_CANCER']=le.fit_transform(df['LUNG_CANCER'])\n",
        "df['SMOKING']=le.fit_transform(df['SMOKING'])\n",
        "df['YELLOW_FINGERS']=le.fit_transform(df['YELLOW_FINGERS'])\n",
        "df['ANXIETY']=le.fit_transform(df['ANXIETY'])\n",
        "df['PEER_PRESSURE']=le.fit_transform(df['PEER_PRESSURE'])\n",
        "df['CHRONIC DISEASE']=le.fit_transform(df['CHRONIC DISEASE'])\n",
        "df['FATIGUE ']=le.fit_transform(df['FATIGUE '])\n",
        "df['ALLERGY ']=le.fit_transform(df['ALLERGY '])\n",
        "df['WHEEZING']=le.fit_transform(df['WHEEZING'])\n",
        "df['ALCOHOL CONSUMING']=le.fit_transform(df['ALCOHOL CONSUMING'])\n",
        "df['COUGHING']=le.fit_transform(df['COUGHING'])\n",
        "df['SHORTNESS OF BREATH']=le.fit_transform(df['SHORTNESS OF BREATH'])\n",
        "df['SWALLOWING DIFFICULTY']=le.fit_transform(df['SWALLOWING DIFFICULTY'])\n",
        "df['CHEST PAIN']=le.fit_transform(df['CHEST PAIN'])\n",
        "df['LUNG_CANCER']=le.fit_transform(df['LUNG_CANCER'])"
      ]
    },
    {
      "cell_type": "code",
      "execution_count": 11,
      "id": "1f9f9472",
      "metadata": {
        "execution": {
          "iopub.execute_input": "2023-05-09T05:22:13.547030Z",
          "iopub.status.busy": "2023-05-09T05:22:13.546580Z",
          "iopub.status.idle": "2023-05-09T05:22:13.564298Z",
          "shell.execute_reply": "2023-05-09T05:22:13.562792Z"
        },
        "papermill": {
          "duration": 0.030512,
          "end_time": "2023-05-09T05:22:13.566809",
          "exception": false,
          "start_time": "2023-05-09T05:22:13.536297",
          "status": "completed"
        },
        "tags": [],
        "colab": {
          "base_uri": "https://localhost:8080/",
          "height": 287
        },
        "id": "1f9f9472",
        "outputId": "f6352f00-723d-4a13-d502-d2734aecf437"
      },
      "outputs": [
        {
          "output_type": "execute_result",
          "data": {
            "text/plain": [
              "   GENDER  AGE  SMOKING  YELLOW_FINGERS  ANXIETY  PEER_PRESSURE  \\\n",
              "0       1   69        0               1        1              0   \n",
              "1       1   74        1               0        0              0   \n",
              "2       0   59        0               0        0              1   \n",
              "3       1   63        1               1        1              0   \n",
              "4       0   63        0               1        0              0   \n",
              "\n",
              "   CHRONIC DISEASE  FATIGUE   ALLERGY   WHEEZING  ALCOHOL CONSUMING  COUGHING  \\\n",
              "0                0         1         0         1                  1         1   \n",
              "1                1         1         1         0                  0         0   \n",
              "2                0         1         0         1                  0         1   \n",
              "3                0         0         0         0                  1         0   \n",
              "4                0         0         0         1                  0         1   \n",
              "\n",
              "   SHORTNESS OF BREATH  SWALLOWING DIFFICULTY  CHEST PAIN  LUNG_CANCER  \n",
              "0                    1                      1           1            1  \n",
              "1                    1                      1           1            1  \n",
              "2                    1                      0           1            0  \n",
              "3                    0                      1           1            0  \n",
              "4                    1                      0           0            0  "
            ],
            "text/html": [
              "\n",
              "  <div id=\"df-8c4bc25c-3024-499e-ac55-160fc54d8c60\">\n",
              "    <div class=\"colab-df-container\">\n",
              "      <div>\n",
              "<style scoped>\n",
              "    .dataframe tbody tr th:only-of-type {\n",
              "        vertical-align: middle;\n",
              "    }\n",
              "\n",
              "    .dataframe tbody tr th {\n",
              "        vertical-align: top;\n",
              "    }\n",
              "\n",
              "    .dataframe thead th {\n",
              "        text-align: right;\n",
              "    }\n",
              "</style>\n",
              "<table border=\"1\" class=\"dataframe\">\n",
              "  <thead>\n",
              "    <tr style=\"text-align: right;\">\n",
              "      <th></th>\n",
              "      <th>GENDER</th>\n",
              "      <th>AGE</th>\n",
              "      <th>SMOKING</th>\n",
              "      <th>YELLOW_FINGERS</th>\n",
              "      <th>ANXIETY</th>\n",
              "      <th>PEER_PRESSURE</th>\n",
              "      <th>CHRONIC DISEASE</th>\n",
              "      <th>FATIGUE</th>\n",
              "      <th>ALLERGY</th>\n",
              "      <th>WHEEZING</th>\n",
              "      <th>ALCOHOL CONSUMING</th>\n",
              "      <th>COUGHING</th>\n",
              "      <th>SHORTNESS OF BREATH</th>\n",
              "      <th>SWALLOWING DIFFICULTY</th>\n",
              "      <th>CHEST PAIN</th>\n",
              "      <th>LUNG_CANCER</th>\n",
              "    </tr>\n",
              "  </thead>\n",
              "  <tbody>\n",
              "    <tr>\n",
              "      <th>0</th>\n",
              "      <td>1</td>\n",
              "      <td>69</td>\n",
              "      <td>0</td>\n",
              "      <td>1</td>\n",
              "      <td>1</td>\n",
              "      <td>0</td>\n",
              "      <td>0</td>\n",
              "      <td>1</td>\n",
              "      <td>0</td>\n",
              "      <td>1</td>\n",
              "      <td>1</td>\n",
              "      <td>1</td>\n",
              "      <td>1</td>\n",
              "      <td>1</td>\n",
              "      <td>1</td>\n",
              "      <td>1</td>\n",
              "    </tr>\n",
              "    <tr>\n",
              "      <th>1</th>\n",
              "      <td>1</td>\n",
              "      <td>74</td>\n",
              "      <td>1</td>\n",
              "      <td>0</td>\n",
              "      <td>0</td>\n",
              "      <td>0</td>\n",
              "      <td>1</td>\n",
              "      <td>1</td>\n",
              "      <td>1</td>\n",
              "      <td>0</td>\n",
              "      <td>0</td>\n",
              "      <td>0</td>\n",
              "      <td>1</td>\n",
              "      <td>1</td>\n",
              "      <td>1</td>\n",
              "      <td>1</td>\n",
              "    </tr>\n",
              "    <tr>\n",
              "      <th>2</th>\n",
              "      <td>0</td>\n",
              "      <td>59</td>\n",
              "      <td>0</td>\n",
              "      <td>0</td>\n",
              "      <td>0</td>\n",
              "      <td>1</td>\n",
              "      <td>0</td>\n",
              "      <td>1</td>\n",
              "      <td>0</td>\n",
              "      <td>1</td>\n",
              "      <td>0</td>\n",
              "      <td>1</td>\n",
              "      <td>1</td>\n",
              "      <td>0</td>\n",
              "      <td>1</td>\n",
              "      <td>0</td>\n",
              "    </tr>\n",
              "    <tr>\n",
              "      <th>3</th>\n",
              "      <td>1</td>\n",
              "      <td>63</td>\n",
              "      <td>1</td>\n",
              "      <td>1</td>\n",
              "      <td>1</td>\n",
              "      <td>0</td>\n",
              "      <td>0</td>\n",
              "      <td>0</td>\n",
              "      <td>0</td>\n",
              "      <td>0</td>\n",
              "      <td>1</td>\n",
              "      <td>0</td>\n",
              "      <td>0</td>\n",
              "      <td>1</td>\n",
              "      <td>1</td>\n",
              "      <td>0</td>\n",
              "    </tr>\n",
              "    <tr>\n",
              "      <th>4</th>\n",
              "      <td>0</td>\n",
              "      <td>63</td>\n",
              "      <td>0</td>\n",
              "      <td>1</td>\n",
              "      <td>0</td>\n",
              "      <td>0</td>\n",
              "      <td>0</td>\n",
              "      <td>0</td>\n",
              "      <td>0</td>\n",
              "      <td>1</td>\n",
              "      <td>0</td>\n",
              "      <td>1</td>\n",
              "      <td>1</td>\n",
              "      <td>0</td>\n",
              "      <td>0</td>\n",
              "      <td>0</td>\n",
              "    </tr>\n",
              "  </tbody>\n",
              "</table>\n",
              "</div>\n",
              "      <button class=\"colab-df-convert\" onclick=\"convertToInteractive('df-8c4bc25c-3024-499e-ac55-160fc54d8c60')\"\n",
              "              title=\"Convert this dataframe to an interactive table.\"\n",
              "              style=\"display:none;\">\n",
              "        \n",
              "  <svg xmlns=\"http://www.w3.org/2000/svg\" height=\"24px\"viewBox=\"0 0 24 24\"\n",
              "       width=\"24px\">\n",
              "    <path d=\"M0 0h24v24H0V0z\" fill=\"none\"/>\n",
              "    <path d=\"M18.56 5.44l.94 2.06.94-2.06 2.06-.94-2.06-.94-.94-2.06-.94 2.06-2.06.94zm-11 1L8.5 8.5l.94-2.06 2.06-.94-2.06-.94L8.5 2.5l-.94 2.06-2.06.94zm10 10l.94 2.06.94-2.06 2.06-.94-2.06-.94-.94-2.06-.94 2.06-2.06.94z\"/><path d=\"M17.41 7.96l-1.37-1.37c-.4-.4-.92-.59-1.43-.59-.52 0-1.04.2-1.43.59L10.3 9.45l-7.72 7.72c-.78.78-.78 2.05 0 2.83L4 21.41c.39.39.9.59 1.41.59.51 0 1.02-.2 1.41-.59l7.78-7.78 2.81-2.81c.8-.78.8-2.07 0-2.86zM5.41 20L4 18.59l7.72-7.72 1.47 1.35L5.41 20z\"/>\n",
              "  </svg>\n",
              "      </button>\n",
              "      \n",
              "  <style>\n",
              "    .colab-df-container {\n",
              "      display:flex;\n",
              "      flex-wrap:wrap;\n",
              "      gap: 12px;\n",
              "    }\n",
              "\n",
              "    .colab-df-convert {\n",
              "      background-color: #E8F0FE;\n",
              "      border: none;\n",
              "      border-radius: 50%;\n",
              "      cursor: pointer;\n",
              "      display: none;\n",
              "      fill: #1967D2;\n",
              "      height: 32px;\n",
              "      padding: 0 0 0 0;\n",
              "      width: 32px;\n",
              "    }\n",
              "\n",
              "    .colab-df-convert:hover {\n",
              "      background-color: #E2EBFA;\n",
              "      box-shadow: 0px 1px 2px rgba(60, 64, 67, 0.3), 0px 1px 3px 1px rgba(60, 64, 67, 0.15);\n",
              "      fill: #174EA6;\n",
              "    }\n",
              "\n",
              "    [theme=dark] .colab-df-convert {\n",
              "      background-color: #3B4455;\n",
              "      fill: #D2E3FC;\n",
              "    }\n",
              "\n",
              "    [theme=dark] .colab-df-convert:hover {\n",
              "      background-color: #434B5C;\n",
              "      box-shadow: 0px 1px 3px 1px rgba(0, 0, 0, 0.15);\n",
              "      filter: drop-shadow(0px 1px 2px rgba(0, 0, 0, 0.3));\n",
              "      fill: #FFFFFF;\n",
              "    }\n",
              "  </style>\n",
              "\n",
              "      <script>\n",
              "        const buttonEl =\n",
              "          document.querySelector('#df-8c4bc25c-3024-499e-ac55-160fc54d8c60 button.colab-df-convert');\n",
              "        buttonEl.style.display =\n",
              "          google.colab.kernel.accessAllowed ? 'block' : 'none';\n",
              "\n",
              "        async function convertToInteractive(key) {\n",
              "          const element = document.querySelector('#df-8c4bc25c-3024-499e-ac55-160fc54d8c60');\n",
              "          const dataTable =\n",
              "            await google.colab.kernel.invokeFunction('convertToInteractive',\n",
              "                                                     [key], {});\n",
              "          if (!dataTable) return;\n",
              "\n",
              "          const docLinkHtml = 'Like what you see? Visit the ' +\n",
              "            '<a target=\"_blank\" href=https://colab.research.google.com/notebooks/data_table.ipynb>data table notebook</a>'\n",
              "            + ' to learn more about interactive tables.';\n",
              "          element.innerHTML = '';\n",
              "          dataTable['output_type'] = 'display_data';\n",
              "          await google.colab.output.renderOutput(dataTable, element);\n",
              "          const docLink = document.createElement('div');\n",
              "          docLink.innerHTML = docLinkHtml;\n",
              "          element.appendChild(docLink);\n",
              "        }\n",
              "      </script>\n",
              "    </div>\n",
              "  </div>\n",
              "  "
            ]
          },
          "metadata": {},
          "execution_count": 11
        }
      ],
      "source": [
        "df.head()"
      ]
    },
    {
      "cell_type": "markdown",
      "id": "7d3d3873",
      "metadata": {
        "papermill": {
          "duration": 0.00853,
          "end_time": "2023-05-09T05:22:13.584466",
          "exception": false,
          "start_time": "2023-05-09T05:22:13.575936",
          "status": "completed"
        },
        "tags": [],
        "id": "7d3d3873"
      },
      "source": [
        "## Analysing the target column"
      ]
    },
    {
      "cell_type": "code",
      "execution_count": 12,
      "id": "d09e6a62",
      "metadata": {
        "execution": {
          "iopub.execute_input": "2023-05-09T05:22:13.605147Z",
          "iopub.status.busy": "2023-05-09T05:22:13.603842Z",
          "iopub.status.idle": "2023-05-09T05:22:13.868790Z",
          "shell.execute_reply": "2023-05-09T05:22:13.867146Z"
        },
        "papermill": {
          "duration": 0.278194,
          "end_time": "2023-05-09T05:22:13.871509",
          "exception": false,
          "start_time": "2023-05-09T05:22:13.593315",
          "status": "completed"
        },
        "tags": [],
        "colab": {
          "base_uri": "https://localhost:8080/",
          "height": 489
        },
        "id": "d09e6a62",
        "outputId": "dde77ffd-2948-4080-99b4-de030e79a085"
      },
      "outputs": [
        {
          "output_type": "execute_result",
          "data": {
            "text/plain": [
              "Text(0.5, 1.0, 'Target Distribution')"
            ]
          },
          "metadata": {},
          "execution_count": 12
        },
        {
          "output_type": "display_data",
          "data": {
            "text/plain": [
              "<Figure size 640x480 with 1 Axes>"
            ],
            "image/png": "[encoded data removed]"
          },
          "metadata": {}
        }
      ],
      "source": [
        "#count plot\n",
        "sns.countplot(x='LUNG_CANCER',data=df,palette=['y','g'])\n",
        "plt.title('Target Distribution')"
      ]
    },
    {
      "cell_type": "code",
      "execution_count": 13,
      "id": "23d4df86",
      "metadata": {
        "execution": {
          "iopub.execute_input": "2023-05-09T05:22:13.892454Z",
          "iopub.status.busy": "2023-05-09T05:22:13.892008Z",
          "iopub.status.idle": "2023-05-09T05:22:13.902367Z",
          "shell.execute_reply": "2023-05-09T05:22:13.901040Z"
        },
        "papermill": {
          "duration": 0.023763,
          "end_time": "2023-05-09T05:22:13.904870",
          "exception": false,
          "start_time": "2023-05-09T05:22:13.881107",
          "status": "completed"
        },
        "tags": [],
        "colab": {
          "base_uri": "https://localhost:8080/"
        },
        "id": "23d4df86",
        "outputId": "f2dd379e-43e0-4b73-94b1-fcd1440cfc5e"
      },
      "outputs": [
        {
          "output_type": "execute_result",
          "data": {
            "text/plain": [
              "1    270\n",
              "0     39\n",
              "Name: LUNG_CANCER, dtype: int64"
            ]
          },
          "metadata": {},
          "execution_count": 13
        }
      ],
      "source": [
        "df['LUNG_CANCER'].value_counts()"
      ]
    },
    {
      "cell_type": "markdown",
      "id": "96b4e6a9",
      "metadata": {
        "papermill": {
          "duration": 0.009204,
          "end_time": "2023-05-09T05:22:13.923901",
          "exception": false,
          "start_time": "2023-05-09T05:22:13.914697",
          "status": "completed"
        },
        "tags": [],
        "id": "96b4e6a9"
      },
      "source": [
        "Here we can see that target distribution is imbalanced"
      ]
    },
    {
      "cell_type": "markdown",
      "id": "5283ada1",
      "metadata": {
        "papermill": {
          "duration": 0.009668,
          "end_time": "2023-05-09T05:22:13.943486",
          "exception": false,
          "start_time": "2023-05-09T05:22:13.933818",
          "status": "completed"
        },
        "tags": [],
        "id": "5283ada1"
      },
      "source": [
        "### Function for plotting"
      ]
    },
    {
      "cell_type": "code",
      "execution_count": 14,
      "id": "bb9dab89",
      "metadata": {
        "execution": {
          "iopub.execute_input": "2023-05-09T05:22:13.964393Z",
          "iopub.status.busy": "2023-05-09T05:22:13.963960Z",
          "iopub.status.idle": "2023-05-09T05:22:13.970080Z",
          "shell.execute_reply": "2023-05-09T05:22:13.968717Z"
        },
        "papermill": {
          "duration": 0.019626,
          "end_time": "2023-05-09T05:22:13.972626",
          "exception": false,
          "start_time": "2023-05-09T05:22:13.953000",
          "status": "completed"
        },
        "tags": [],
        "id": "bb9dab89"
      },
      "outputs": [],
      "source": [
        "def plot(col,df=df):\n",
        "    return df.groupby(col)['LUNG_CANCER'].value_counts(normalize=True).unstack().plot(kind='bar',color=['Orange','Green'],figsize=(7,4))"
      ]
    },
    {
      "cell_type": "code",
      "execution_count": 15,
      "id": "06dfe4e1",
      "metadata": {
        "execution": {
          "iopub.execute_input": "2023-05-09T05:22:13.993783Z",
          "iopub.status.busy": "2023-05-09T05:22:13.993345Z",
          "iopub.status.idle": "2023-05-09T05:22:14.681710Z",
          "shell.execute_reply": "2023-05-09T05:22:14.680909Z"
        },
        "papermill": {
          "duration": 0.701762,
          "end_time": "2023-05-09T05:22:14.684163",
          "exception": false,
          "start_time": "2023-05-09T05:22:13.982401",
          "status": "completed"
        },
        "tags": [],
        "colab": {
          "base_uri": "https://localhost:8080/",
          "height": 409
        },
        "id": "06dfe4e1",
        "outputId": "f2d911c3-d088-467d-9482-dbf6bc927776"
      },
      "outputs": [
        {
          "output_type": "execute_result",
          "data": {
            "text/plain": [
              "<Axes: xlabel='AGE'>"
            ]
          },
          "metadata": {},
          "execution_count": 15
        },
        {
          "output_type": "display_data",
          "data": {
            "text/plain": [
              "<Figure size 700x400 with 1 Axes>"
            ],
            "image/png": "[encoded data removed]"
          },
          "metadata": {}
        }
      ],
      "source": [
        "plot('AGE')"
      ]
    },
    {
      "cell_type": "code",
      "execution_count": 16,
      "id": "078f1676",
      "metadata": {
        "execution": {
          "iopub.execute_input": "2023-05-09T05:22:14.709042Z",
          "iopub.status.busy": "2023-05-09T05:22:14.708475Z",
          "iopub.status.idle": "2023-05-09T05:22:14.949390Z",
          "shell.execute_reply": "2023-05-09T05:22:14.947458Z"
        },
        "papermill": {
          "duration": 0.257277,
          "end_time": "2023-05-09T05:22:14.952386",
          "exception": false,
          "start_time": "2023-05-09T05:22:14.695109",
          "status": "completed"
        },
        "tags": [],
        "colab": {
          "base_uri": "https://localhost:8080/",
          "height": 400
        },
        "id": "078f1676",
        "outputId": "4d53e417-fbd6-4cec-b9d9-7077d7125099"
      },
      "outputs": [
        {
          "output_type": "execute_result",
          "data": {
            "text/plain": [
              "<Axes: xlabel='SMOKING'>"
            ]
          },
          "metadata": {},
          "execution_count": 16
        },
        {
          "output_type": "display_data",
          "data": {
            "text/plain": [
              "<Figure size 700x400 with 1 Axes>"
            ],
            "image/png": "[encoded data removed]"
          },
          "metadata": {}
        }
      ],
      "source": [
        "plot('SMOKING')"
      ]
    },
    {
      "cell_type": "code",
      "execution_count": 17,
      "id": "c13eaef5",
      "metadata": {
        "execution": {
          "iopub.execute_input": "2023-05-09T05:22:14.976807Z",
          "iopub.status.busy": "2023-05-09T05:22:14.976381Z",
          "iopub.status.idle": "2023-05-09T05:22:15.152645Z",
          "shell.execute_reply": "2023-05-09T05:22:15.151780Z"
        },
        "papermill": {
          "duration": 0.191681,
          "end_time": "2023-05-09T05:22:15.155121",
          "exception": false,
          "start_time": "2023-05-09T05:22:14.963440",
          "status": "completed"
        },
        "tags": [],
        "colab": {
          "base_uri": "https://localhost:8080/",
          "height": 400
        },
        "id": "c13eaef5",
        "outputId": "e3a4f58e-4149-490f-c9a8-a47ba0003b93"
      },
      "outputs": [
        {
          "output_type": "execute_result",
          "data": {
            "text/plain": [
              "<Axes: xlabel='GENDER'>"
            ]
          },
          "metadata": {},
          "execution_count": 17
        },
        {
          "output_type": "display_data",
          "data": {
            "text/plain": [
              "<Figure size 700x400 with 1 Axes>"
            ],
            "image/png": "[encoded data removed]"
          },
          "metadata": {}
        }
      ],
      "source": [
        "plot('GENDER')"
      ]
    },
    {
      "cell_type": "code",
      "execution_count": 18,
      "id": "1072eaae",
      "metadata": {
        "execution": {
          "iopub.execute_input": "2023-05-09T05:22:15.180616Z",
          "iopub.status.busy": "2023-05-09T05:22:15.179916Z",
          "iopub.status.idle": "2023-05-09T05:22:15.362371Z",
          "shell.execute_reply": "2023-05-09T05:22:15.361150Z"
        },
        "papermill": {
          "duration": 0.198476,
          "end_time": "2023-05-09T05:22:15.364871",
          "exception": false,
          "start_time": "2023-05-09T05:22:15.166395",
          "status": "completed"
        },
        "tags": [],
        "colab": {
          "base_uri": "https://localhost:8080/",
          "height": 400
        },
        "id": "1072eaae",
        "outputId": "c7c3bd0f-8e98-42ea-873c-78465223f358"
      },
      "outputs": [
        {
          "output_type": "execute_result",
          "data": {
            "text/plain": [
              "<Axes: xlabel='YELLOW_FINGERS'>"
            ]
          },
          "metadata": {},
          "execution_count": 18
        },
        {
          "output_type": "display_data",
          "data": {
            "text/plain": [
              "<Figure size 700x400 with 1 Axes>"
            ],
            "image/png": "[encoded data removed]"
          },
          "metadata": {}
        }
      ],
      "source": [
        "plot('YELLOW_FINGERS')"
      ]
    },
    {
      "cell_type": "code",
      "execution_count": 19,
      "id": "90f5fcb1",
      "metadata": {
        "execution": {
          "iopub.execute_input": "2023-05-09T05:22:15.390327Z",
          "iopub.status.busy": "2023-05-09T05:22:15.388999Z",
          "iopub.status.idle": "2023-05-09T05:22:15.574224Z",
          "shell.execute_reply": "2023-05-09T05:22:15.573162Z"
        },
        "papermill": {
          "duration": 0.200686,
          "end_time": "2023-05-09T05:22:15.577227",
          "exception": false,
          "start_time": "2023-05-09T05:22:15.376541",
          "status": "completed"
        },
        "tags": [],
        "colab": {
          "base_uri": "https://localhost:8080/",
          "height": 400
        },
        "id": "90f5fcb1",
        "outputId": "7d21d883-27e9-4504-8dee-cac4443cba6b"
      },
      "outputs": [
        {
          "output_type": "execute_result",
          "data": {
            "text/plain": [
              "<Axes: xlabel='ANXIETY'>"
            ]
          },
          "metadata": {},
          "execution_count": 19
        },
        {
          "output_type": "display_data",
          "data": {
            "text/plain": [
              "<Figure size 700x400 with 1 Axes>"
            ],
            "image/png": "[encoded data removed]"
          },
          "metadata": {}
        }
      ],
      "source": [
        "plot('ANXIETY')"
      ]
    },
    {
      "cell_type": "code",
      "execution_count": 20,
      "id": "ed0d9ed2",
      "metadata": {
        "execution": {
          "iopub.execute_input": "2023-05-09T05:22:15.602135Z",
          "iopub.status.busy": "2023-05-09T05:22:15.601733Z",
          "iopub.status.idle": "2023-05-09T05:22:15.783935Z",
          "shell.execute_reply": "2023-05-09T05:22:15.782660Z"
        },
        "papermill": {
          "duration": 0.198109,
          "end_time": "2023-05-09T05:22:15.787261",
          "exception": false,
          "start_time": "2023-05-09T05:22:15.589152",
          "status": "completed"
        },
        "tags": [],
        "colab": {
          "base_uri": "https://localhost:8080/",
          "height": 400
        },
        "id": "ed0d9ed2",
        "outputId": "e19f6c63-bfa5-4701-aeca-2afaef34e620"
      },
      "outputs": [
        {
          "output_type": "execute_result",
          "data": {
            "text/plain": [
              "<Axes: xlabel='FATIGUE '>"
            ]
          },
          "metadata": {},
          "execution_count": 20
        },
        {
          "output_type": "display_data",
          "data": {
            "text/plain": [
              "<Figure size 700x400 with 1 Axes>"
            ],
            "image/png": "[encoded data removed]"
          },
          "metadata": {}
        }
      ],
      "source": [
        "plot('FATIGUE ')"
      ]
    },
    {
      "cell_type": "code",
      "execution_count": 21,
      "id": "2d48dc08",
      "metadata": {
        "execution": {
          "iopub.execute_input": "2023-05-09T05:22:15.819485Z",
          "iopub.status.busy": "2023-05-09T05:22:15.817761Z",
          "iopub.status.idle": "2023-05-09T05:22:16.063636Z",
          "shell.execute_reply": "2023-05-09T05:22:16.062377Z"
        },
        "papermill": {
          "duration": 0.265311,
          "end_time": "2023-05-09T05:22:16.066386",
          "exception": false,
          "start_time": "2023-05-09T05:22:15.801075",
          "status": "completed"
        },
        "tags": [],
        "colab": {
          "base_uri": "https://localhost:8080/",
          "height": 400
        },
        "id": "2d48dc08",
        "outputId": "ea5e40c1-29e5-449e-f3a6-51d48b0599c4"
      },
      "outputs": [
        {
          "output_type": "execute_result",
          "data": {
            "text/plain": [
              "<Axes: xlabel='CHRONIC DISEASE'>"
            ]
          },
          "metadata": {},
          "execution_count": 21
        },
        {
          "output_type": "display_data",
          "data": {
            "text/plain": [
              "<Figure size 700x400 with 1 Axes>"
            ],
            "image/png": "[encoded data removed]"
          },
          "metadata": {}
        }
      ],
      "source": [
        "plot('CHRONIC DISEASE')"
      ]
    },
    {
      "cell_type": "code",
      "execution_count": 22,
      "id": "0478eb20",
      "metadata": {
        "execution": {
          "iopub.execute_input": "2023-05-09T05:22:16.095255Z",
          "iopub.status.busy": "2023-05-09T05:22:16.094195Z",
          "iopub.status.idle": "2023-05-09T05:22:16.334399Z",
          "shell.execute_reply": "2023-05-09T05:22:16.332962Z"
        },
        "papermill": {
          "duration": 0.258926,
          "end_time": "2023-05-09T05:22:16.338251",
          "exception": false,
          "start_time": "2023-05-09T05:22:16.079325",
          "status": "completed"
        },
        "tags": [],
        "colab": {
          "base_uri": "https://localhost:8080/",
          "height": 400
        },
        "id": "0478eb20",
        "outputId": "5b07b2db-7c47-4f3c-c07e-cdc721e1d84a"
      },
      "outputs": [
        {
          "output_type": "execute_result",
          "data": {
            "text/plain": [
              "<Axes: xlabel='PEER_PRESSURE'>"
            ]
          },
          "metadata": {},
          "execution_count": 22
        },
        {
          "output_type": "display_data",
          "data": {
            "text/plain": [
              "<Figure size 700x400 with 1 Axes>"
            ],
            "image/png": "[encoded data removed]"
          },
          "metadata": {}
        }
      ],
      "source": [
        "plot('PEER_PRESSURE')"
      ]
    },
    {
      "cell_type": "code",
      "execution_count": 23,
      "id": "fafabccf",
      "metadata": {
        "execution": {
          "iopub.execute_input": "2023-05-09T05:22:16.371316Z",
          "iopub.status.busy": "2023-05-09T05:22:16.370892Z",
          "iopub.status.idle": "2023-05-09T05:22:16.640246Z",
          "shell.execute_reply": "2023-05-09T05:22:16.638819Z"
        },
        "papermill": {
          "duration": 0.290846,
          "end_time": "2023-05-09T05:22:16.643191",
          "exception": false,
          "start_time": "2023-05-09T05:22:16.352345",
          "status": "completed"
        },
        "tags": [],
        "colab": {
          "base_uri": "https://localhost:8080/",
          "height": 400
        },
        "id": "fafabccf",
        "outputId": "f01900dd-920a-47da-9417-4dea445a282d"
      },
      "outputs": [
        {
          "output_type": "execute_result",
          "data": {
            "text/plain": [
              "<Axes: xlabel='ALLERGY '>"
            ]
          },
          "metadata": {},
          "execution_count": 23
        },
        {
          "output_type": "display_data",
          "data": {
            "text/plain": [
              "<Figure size 700x400 with 1 Axes>"
            ],
            "image/png": "[encoded data removed]"
          },
          "metadata": {}
        }
      ],
      "source": [
        "plot('ALLERGY ')"
      ]
    },
    {
      "cell_type": "code",
      "execution_count": 24,
      "id": "922a200f",
      "metadata": {
        "execution": {
          "iopub.execute_input": "2023-05-09T05:22:16.671649Z",
          "iopub.status.busy": "2023-05-09T05:22:16.671099Z",
          "iopub.status.idle": "2023-05-09T05:22:17.115203Z",
          "shell.execute_reply": "2023-05-09T05:22:17.113920Z"
        },
        "papermill": {
          "duration": 0.461639,
          "end_time": "2023-05-09T05:22:17.117886",
          "exception": false,
          "start_time": "2023-05-09T05:22:16.656247",
          "status": "completed"
        },
        "tags": [],
        "colab": {
          "base_uri": "https://localhost:8080/",
          "height": 400
        },
        "id": "922a200f",
        "outputId": "864fca9e-c214-4289-f60c-6bb105c3c80d"
      },
      "outputs": [
        {
          "output_type": "execute_result",
          "data": {
            "text/plain": [
              "<Axes: xlabel='WHEEZING'>"
            ]
          },
          "metadata": {},
          "execution_count": 24
        },
        {
          "output_type": "display_data",
          "data": {
            "text/plain": [
              "<Figure size 700x400 with 1 Axes>"
            ],
            "image/png": "[encoded data removed]"
          },
          "metadata": {}
        }
      ],
      "source": [
        "plot('WHEEZING')"
      ]
    },
    {
      "cell_type": "code",
      "execution_count": 25,
      "id": "178fa3d5",
      "metadata": {
        "execution": {
          "iopub.execute_input": "2023-05-09T05:22:17.145788Z",
          "iopub.status.busy": "2023-05-09T05:22:17.145388Z",
          "iopub.status.idle": "2023-05-09T05:22:17.427610Z",
          "shell.execute_reply": "2023-05-09T05:22:17.426460Z"
        },
        "papermill": {
          "duration": 0.299326,
          "end_time": "2023-05-09T05:22:17.430284",
          "exception": false,
          "start_time": "2023-05-09T05:22:17.130958",
          "status": "completed"
        },
        "tags": [],
        "colab": {
          "base_uri": "https://localhost:8080/",
          "height": 403
        },
        "id": "178fa3d5",
        "outputId": "78d40f04-1c17-4e41-e920-27887d39f509"
      },
      "outputs": [
        {
          "output_type": "execute_result",
          "data": {
            "text/plain": [
              "<Axes: xlabel='ALCOHOL CONSUMING'>"
            ]
          },
          "metadata": {},
          "execution_count": 25
        },
        {
          "output_type": "display_data",
          "data": {
            "text/plain": [
              "<Figure size 700x400 with 1 Axes>"
            ],
            "image/png": "[encoded data removed]"
          },
          "metadata": {}
        }
      ],
      "source": [
        "plot('ALCOHOL CONSUMING')"
      ]
    },
    {
      "cell_type": "code",
      "execution_count": 26,
      "id": "4b0c3169",
      "metadata": {
        "execution": {
          "iopub.execute_input": "2023-05-09T05:22:17.464780Z",
          "iopub.status.busy": "2023-05-09T05:22:17.463334Z",
          "iopub.status.idle": "2023-05-09T05:22:17.710754Z",
          "shell.execute_reply": "2023-05-09T05:22:17.709028Z"
        },
        "papermill": {
          "duration": 0.268049,
          "end_time": "2023-05-09T05:22:17.713310",
          "exception": false,
          "start_time": "2023-05-09T05:22:17.445261",
          "status": "completed"
        },
        "tags": [],
        "colab": {
          "base_uri": "https://localhost:8080/",
          "height": 400
        },
        "id": "4b0c3169",
        "outputId": "6eec2a72-fbef-42cb-80d6-1d274de8a299"
      },
      "outputs": [
        {
          "output_type": "execute_result",
          "data": {
            "text/plain": [
              "<Axes: xlabel='COUGHING'>"
            ]
          },
          "metadata": {},
          "execution_count": 26
        },
        {
          "output_type": "display_data",
          "data": {
            "text/plain": [
              "<Figure size 700x400 with 1 Axes>"
            ],
            "image/png": "[encoded data removed]"
          },
          "metadata": {}
        }
      ],
      "source": [
        "plot('COUGHING')"
      ]
    },
    {
      "cell_type": "code",
      "execution_count": 27,
      "id": "325cdc87",
      "metadata": {
        "execution": {
          "iopub.execute_input": "2023-05-09T05:22:17.745751Z",
          "iopub.status.busy": "2023-05-09T05:22:17.745238Z",
          "iopub.status.idle": "2023-05-09T05:22:17.994430Z",
          "shell.execute_reply": "2023-05-09T05:22:17.993086Z"
        },
        "papermill": {
          "duration": 0.268391,
          "end_time": "2023-05-09T05:22:17.997047",
          "exception": false,
          "start_time": "2023-05-09T05:22:17.728656",
          "status": "completed"
        },
        "tags": [],
        "colab": {
          "base_uri": "https://localhost:8080/",
          "height": 400
        },
        "id": "325cdc87",
        "outputId": "2c517758-fe27-464b-f01e-58397256da79"
      },
      "outputs": [
        {
          "output_type": "execute_result",
          "data": {
            "text/plain": [
              "<Axes: xlabel='CHEST PAIN'>"
            ]
          },
          "metadata": {},
          "execution_count": 27
        },
        {
          "output_type": "display_data",
          "data": {
            "text/plain": [
              "<Figure size 700x400 with 1 Axes>"
            ],
            "image/png": "[encoded data removed]"
          },
          "metadata": {}
        }
      ],
      "source": [
        "plot('CHEST PAIN')"
      ]
    },
    {
      "cell_type": "code",
      "execution_count": 28,
      "id": "5ec86343",
      "metadata": {
        "execution": {
          "iopub.execute_input": "2023-05-09T05:22:18.030313Z",
          "iopub.status.busy": "2023-05-09T05:22:18.029835Z",
          "iopub.status.idle": "2023-05-09T05:22:18.308514Z",
          "shell.execute_reply": "2023-05-09T05:22:18.306798Z"
        },
        "papermill": {
          "duration": 0.298502,
          "end_time": "2023-05-09T05:22:18.311745",
          "exception": false,
          "start_time": "2023-05-09T05:22:18.013243",
          "status": "completed"
        },
        "tags": [],
        "colab": {
          "base_uri": "https://localhost:8080/",
          "height": 401
        },
        "id": "5ec86343",
        "outputId": "13fbcd33-4ce1-4b10-edd7-6e829d7ce493"
      },
      "outputs": [
        {
          "output_type": "execute_result",
          "data": {
            "text/plain": [
              "<Axes: xlabel='SWALLOWING DIFFICULTY'>"
            ]
          },
          "metadata": {},
          "execution_count": 28
        },
        {
          "output_type": "display_data",
          "data": {
            "text/plain": [
              "<Figure size 700x400 with 1 Axes>"
            ],
            "image/png": "[encoded data removed]"
          },
          "metadata": {}
        }
      ],
      "source": [
        "plot('SWALLOWING DIFFICULTY')"
      ]
    },
    {
      "cell_type": "code",
      "execution_count": 29,
      "id": "73c57147",
      "metadata": {
        "execution": {
          "iopub.execute_input": "2023-05-09T05:22:18.343552Z",
          "iopub.status.busy": "2023-05-09T05:22:18.343023Z",
          "iopub.status.idle": "2023-05-09T05:22:18.595906Z",
          "shell.execute_reply": "2023-05-09T05:22:18.594212Z"
        },
        "papermill": {
          "duration": 0.272565,
          "end_time": "2023-05-09T05:22:18.599152",
          "exception": false,
          "start_time": "2023-05-09T05:22:18.326587",
          "status": "completed"
        },
        "tags": [],
        "colab": {
          "base_uri": "https://localhost:8080/",
          "height": 400
        },
        "id": "73c57147",
        "outputId": "6cb9a2b2-3336-4b85-98c0-5c0f62bb0f29"
      },
      "outputs": [
        {
          "output_type": "execute_result",
          "data": {
            "text/plain": [
              "<Axes: xlabel='SHORTNESS OF BREATH'>"
            ]
          },
          "metadata": {},
          "execution_count": 29
        },
        {
          "output_type": "display_data",
          "data": {
            "text/plain": [
              "<Figure size 700x400 with 1 Axes>"
            ],
            "image/png": "[encoded data removed]"
          },
          "metadata": {}
        }
      ],
      "source": [
        "plot('SHORTNESS OF BREATH')"
      ]
    },
    {
      "cell_type": "markdown",
      "id": "8fdebfb7",
      "metadata": {
        "papermill": {
          "duration": 0.016327,
          "end_time": "2023-05-09T05:22:18.632857",
          "exception": false,
          "start_time": "2023-05-09T05:22:18.616530",
          "status": "completed"
        },
        "tags": [],
        "id": "8fdebfb7"
      },
      "source": [
        "From the visualizations, it is clear that in the given dataset, the features GENDER, AGE, SMOKING and SHORTNESS OF BREATH don't have that much relationship with LUNG CANCER."
      ]
    }
  ],
  "metadata": {
    "kernelspec": {
      "display_name": "Python 3",
      "language": "python",
      "name": "python3"
    },
    "language_info": {
      "codemirror_mode": {
        "name": "ipython",
        "version": 3
      },
      "file_extension": ".py",
      "mimetype": "text/x-python",
      "name": "python",
      "nbconvert_exporter": "python",
      "pygments_lexer": "ipython3",
      "version": "3.10.10"
    },
    "papermill": {
      "default_parameters": {},
      "duration": 19.094066,
      "end_time": "2023-05-09T05:22:19.773801",
      "environment_variables": {},
      "exception": null,
      "input_path": "__notebook__.ipynb",
      "output_path": "__notebook__.ipynb",
      "parameters": {},
      "start_time": "2023-05-09T05:22:00.679735",
      "version": "2.4.0"
    },
    "colab": {
      "provenance": [],
      "include_colab_link": true
    }
  },
  "nbformat": 4,
  "nbformat_minor": 5
}